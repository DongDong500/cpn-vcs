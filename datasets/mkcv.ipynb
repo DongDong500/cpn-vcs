{
 "cells": [
  {
   "cell_type": "code",
   "execution_count": 99,
   "metadata": {},
   "outputs": [],
   "source": [
    "import os\n",
    "\n",
    "datadir = '/data1/sdi/datasets/CPN_all/Images'"
   ]
  },
  {
   "cell_type": "code",
   "execution_count": 102,
   "metadata": {},
   "outputs": [
    {
     "data": {
      "text/plain": [
       "['FN+2_I0000943_1',\n",
       " 'FN+2_I0000943_2',\n",
       " 'FN+2_I0001746',\n",
       " 'FN+2_I0001756',\n",
       " 'FN+2_I0002925']"
      ]
     },
     "execution_count": 102,
     "metadata": {},
     "output_type": "execute_result"
    }
   ],
   "source": [
    "cnt = {}\n",
    "flist = {}\n",
    "six = ['FH', 'FN', 'FN+1', 'FN+2', 'FN+3', 'FN+4']\n",
    "\n",
    "\n",
    "for ims in sorted(os.listdir(datadir)):\n",
    "    catgry = ims.split('_')[0]\n",
    "    if catgry not in cnt.keys() and catgry in six:\n",
    "        cnt[catgry] = 1\n",
    "        flist[catgry] = [ims.split('.')[0]]\n",
    "    elif catgry not in cnt.keys() and catgry not in six and 'else' not in cnt.keys():\n",
    "        cnt['else'] = 1\n",
    "        #flist['else'] = [ims.split('.')[0]]\n",
    "    elif catgry in cnt.keys() and catgry in six:\n",
    "        cnt[catgry] += 1\n",
    "        flist[catgry].append(ims.split('.')[0])\n",
    "    elif catgry not in six and 'else' in cnt.keys():\n",
    "        cnt['else'] += 1\n",
    "        #flist['else'].append(ims.split('.')[0])\n",
    "        \n",
    "int(flist['FN+4'].__len__() / 5)\n",
    "flist['FN+2'][0: 0+5]"
   ]
  },
  {
   "cell_type": "code",
   "execution_count": 103,
   "metadata": {},
   "outputs": [
    {
     "name": "stdout",
     "output_type": "stream",
     "text": [
      "FH : r: 1 q: 18\n",
      "FN+1 : r: 2 q: 15\n",
      "FN+2 : r: 3 q: 11\n",
      "FN+3 : r: 4 q: 9\n",
      "FN+4 : r: 4 q: 5\n",
      "FN : r: 1 q: 21\n",
      "[0, 6, 12, 18, 24, 29]\n",
      "train: 325 val: 85 total: 410\n",
      "intersection:  0\n",
      "train: 327 val: 83 total: 410\n",
      "intersection:  0\n",
      "train: 328 val: 82 total: 410\n",
      "intersection:  0\n",
      "train: 329 val: 81 total: 410\n",
      "intersection:  0\n",
      "train: 331 val: 79 total: 410\n",
      "intersection:  0\n"
     ]
    }
   ],
   "source": [
    "kfold = 5\n",
    "idx = {}\n",
    "\n",
    "for k in flist.keys():\n",
    "    r = flist[k].__len__() % kfold\n",
    "    q = (flist[k].__len__() - r) / kfold\n",
    "    print(k, \": r: %d q: %d\" %(r, q))\n",
    "    idx[k] = [0]\n",
    "    for i in range(kfold):\n",
    "        if i < r:\n",
    "            idx[k].append(int(i*q + q + 1 + i))\n",
    "        else:\n",
    "            idx[k].append(int(i*q + q + r))\n",
    "print(idx['FN+4'])\n",
    "\n",
    "for i in range(kfold):\n",
    "    cumsum = 0\n",
    "    val = []\n",
    "    train = []\n",
    "    for k in flist.keys():\n",
    "        val.extend(flist[k][idx[k][i]:idx[k][i+1]])\n",
    "        train.extend(list(set(flist[k]) - set(flist[k][idx[k][i]:idx[k][i+1]])))\n",
    "        cumsum += flist[k][idx[k][i]:idx[k][i+1]].__len__()\n",
    "    print('train:', train.__len__(), 'val:', val.__len__(), 'total:', train.__len__() + val.__len__())\n",
    "    print('intersection: ', list(set(train) & set(val)).__len__())\n",
    "    if not os.path.exists(os.path.join('/data1/sdi/datasets/CPN_six/splits/', 'cv' + str(kfold), str(i))):\n",
    "        os.makedirs(os.path.join('/data1/sdi/datasets/CPN_six/splits/', 'cv' + str(kfold), str(i)))\n",
    "    with open(os.path.join('/data1/sdi/datasets/CPN_six/splits/', 'cv' + str(kfold), str(i), 'val.txt'), \"w+\") as f:\n",
    "        f.write('\\n'.join(val))\n",
    "    with open(os.path.join('/data1/sdi/datasets/CPN_six/splits/', 'cv' + str(kfold), str(i), 'train.txt'), \"w+\") as f:\n",
    "        f.write('\\n'.join(train))"
   ]
  },
  {
   "cell_type": "code",
   "execution_count": 43,
   "metadata": {},
   "outputs": [
    {
     "data": {
      "text/plain": [
       "['FN+4_I0001748',\n",
       " 'FN+4_I0005905',\n",
       " 'FN+4_I0007523',\n",
       " 'FN+4_I0008534',\n",
       " 'FN+4_I0008551',\n",
       " 'FN+4_I0008737',\n",
       " 'FN+4_I0008924',\n",
       " 'FN+4_I0009065_1',\n",
       " 'FN+4_I0009065_2',\n",
       " 'FN+4_I0010637',\n",
       " 'FN+4_I0011286',\n",
       " 'FN+4_I0011291',\n",
       " 'FN+4_I0015013',\n",
       " 'FN+4_I0015015',\n",
       " 'FN+4_I0015578',\n",
       " 'FN+4_I0015585',\n",
       " 'FN+4_I0016838',\n",
       " 'FN+4_I0017087',\n",
       " 'FN+4_I0018309',\n",
       " 'FN+4_I0019460',\n",
       " 'FN+4_I0019544',\n",
       " 'FN+4_I0022381',\n",
       " 'FN+4_I0022789',\n",
       " 'FN+4_I0023852',\n",
       " 'FN+4_I0025655',\n",
       " 'FN+4_I0025738_1',\n",
       " 'FN+4_I0025740_1',\n",
       " 'FN+4_I0028792',\n",
       " 'FN+4_I0030261']"
      ]
     },
     "execution_count": 43,
     "metadata": {},
     "output_type": "execute_result"
    }
   ],
   "source": [
    "flist['FN+4']"
   ]
  }
 ],
 "metadata": {
  "interpreter": {
   "hash": "d4b5c8650f0f10b1c7c51c1776334ef788d7d32be5ff36caeb1b5253eea00ee0"
  },
  "kernelspec": {
   "display_name": "Python 3.6.13 ('sdi_MUnet')",
   "language": "python",
   "name": "python3"
  },
  "language_info": {
   "codemirror_mode": {
    "name": "ipython",
    "version": 3
   },
   "file_extension": ".py",
   "mimetype": "text/x-python",
   "name": "python",
   "nbconvert_exporter": "python",
   "pygments_lexer": "ipython3",
   "version": "3.6.13"
  },
  "orig_nbformat": 4
 },
 "nbformat": 4,
 "nbformat_minor": 2
}
