{
 "cells": [
  {
   "cell_type": "code",
   "execution_count": 1,
   "metadata": {},
   "outputs": [],
   "source": [
    "import os\n",
    "import numpy as np\n",
    "from PIL import Image\n",
    "from PIL import ImageOps\n",
    "from matplotlib import pyplot as plt"
   ]
  },
  {
   "cell_type": "code",
   "execution_count": 15,
   "metadata": {},
   "outputs": [
    {
     "name": "stdout",
     "output_type": "stream",
     "text": [
      "cnt: 490\n"
     ]
    }
   ],
   "source": [
    "'''generate (640, 640) size image, mask with right, bottom edge 0 padding.\n",
    "'''\n",
    "\n",
    "pth = '/data1/sdi/datasets/CPN_all/Images'\n",
    "mpth = '/data1/sdi/datasets/CPN_all/Masks'\n",
    "\n",
    "dst = '/data1/sdi/datasets/CPN_pad/Images'\n",
    "mdst = '/data1/sdi/datasets/CPN_pad/Masks'\n",
    "\n",
    "cnt = 0\n",
    "for fname in os.listdir(pth):\n",
    "    mname = fname.split('.')[0] + '_mask.bmp'\n",
    "    img = Image.open(os.path.join(pth, fname)).convert('L')\n",
    "    mask = Image.open(os.path.join(mpth, mname)).convert('L')\n",
    "\n",
    "    if img.size[0] > 640:\n",
    "        # center crop WxH\n",
    "        img = img.crop( (int(img.size[0]/2) - 320, 0, int(img.size[0]/2) + 320, img.size[1]) )\n",
    "        mask = mask.crop( (int(img.size[0]/2) - 320, 0, int(img.size[0]/2) + 320, img.size[1]) )\n",
    "        \n",
    "    if img.size[1] > 640:\n",
    "        img = img.crop( (0, int(img.size[1]/2) - 320, img.size[0], int(img.size[1]/2) + 320) )\n",
    "        mask = mask.crop( (0, int(img.size[1]/2) - 320, img.size[0], int(img.size[1]/2) + 320) )\n",
    "\n",
    "    # img = ImageOps.pad(img, (640, 640), color=255, centering=(0, 0))\n",
    "    # mask = ImageOps.pad(mask, (640, 640), color=255, centering=(0, 0))\n",
    "\n",
    "    img = ImageOps.expand(img, (0, 0, 640-img.size[0], 640-img.size[1]), fill=0)\n",
    "    mask = ImageOps.expand(mask, (0, 0, 640-mask.size[0], 640-mask.size[1]), fill=0)\n",
    "    overlay = Image.fromarray(np.array(img)/2 + np.array(mask)/2).convert('L')\n",
    "\n",
    "    assert ( img.size == mask.size == (640, 640))\n",
    "\n",
    "    img.save(os.path.join(dst, fname))\n",
    "    mask.save(os.path.join(mdst, mname))\n",
    "    overlay.save(os.path.join('/data1/sdi/datasets/CPN_pad/overlay', fname))\n",
    "    cnt += 1\n",
    "\n",
    "print(f'cnt: {cnt}')\n",
    "    "
   ]
  },
  {
   "cell_type": "code",
   "execution_count": 28,
   "metadata": {},
   "outputs": [],
   "source": [
    "pth = '/data1/sdi/datasets/Median/Images'\n",
    "mpth = '/data1/sdi/datasets/Median/Masks'\n",
    "\n",
    "dst = '/data1/sdi/datasets/Median_padw/Images'\n",
    "mdst = '/data1/sdi/datasets/Median_padw/Masks'\n",
    "\n",
    "for fname in os.listdir(pth):\n",
    "    img = Image.open(os.path.join(pth, fname)).convert('L')\n",
    "    mask = Image.open(os.path.join(mpth, fname)).convert('L')\n",
    "\n",
    "    if img.size[0] > 640 or img.size[1] > 640:\n",
    "        img = ImageOps.expand(img, (0, 0, 896-img.size[0], 640-img.size[1]), fill=255)\n",
    "        mask = ImageOps.expand(mask, (0, 0, 896-mask.size[0], 640-mask.size[1]), fill=0)\n",
    "        \n",
    "    else:\n",
    "        img = ImageOps.expand(img, (0, 0, 640-img.size[0], 640-img.size[1]), fill=255)\n",
    "        mask = ImageOps.expand(mask, (0, 0, 640-mask.size[0], 640-mask.size[1]), fill=0)\n",
    "\n",
    "    img.save(os.path.join(dst, fname))\n",
    "    mask.save(os.path.join(mdst, fname))\n",
    "\n",
    "    #plt.imshow(img, cmap='gray')\n",
    "    # if img.size not in cnt.keys():\n",
    "    #     cnt[img.size] = 0\n",
    "    # else:\n",
    "    #     cnt[img.size] += 1"
   ]
  },
  {
   "cell_type": "code",
   "execution_count": 2,
   "metadata": {},
   "outputs": [
    {
     "data": {
      "text/plain": [
       "{(864, 576): 502, (565, 442): 803}"
      ]
     },
     "execution_count": 2,
     "metadata": {},
     "output_type": "execute_result"
    }
   ],
   "source": [
    "import os\n",
    "from PIL import Image\n",
    "\n",
    "pth = '/data1/sdi/datasets/_Median/Images'\n",
    "\n",
    "cnt = {}\n",
    "for fname in os.listdir(pth):\n",
    "    img = Image.open(os.path.join(pth, fname))\n",
    "    if img.size not in cnt.keys():\n",
    "        cnt[img.size] = 1\n",
    "    else:\n",
    "        cnt[img.size] += 1\n",
    "cnt"
   ]
  },
  {
   "cell_type": "code",
   "execution_count": null,
   "metadata": {},
   "outputs": [],
   "source": [
    "pth = '/data1/sdi/datasets/CPN_all/Images'\n",
    "\n",
    "cntw = 0\n",
    "cnth = 0\n",
    "fnamelist = []\n",
    "for fname in os.listdir(pth):\n",
    "    img = Image.open(os.path.join(pth, fname))\n",
    "    #print(img.size[0], img.size[1])\n",
    "    if img.size[0] > 640:\n",
    "        cntw += 1\n",
    "        print(fname, img.size)\n",
    "        fnamelist.append(fname)\n",
    "    if img.size[1] > 640:\n",
    "        cnth += 1\n",
    "        print(fname, img.size)\n",
    "    # img = ImageOps.pad(img, (512, 512), centering=(0, 0))\n",
    "    # plt.imshow(img, cmap='gray')\n",
    "print(cntw, cnth)"
   ]
  },
  {
   "cell_type": "code",
   "execution_count": null,
   "metadata": {},
   "outputs": [],
   "source": [
    "for fname in fnamelist:\n",
    "    mname = fname.split('.')[0] + '_mask.bmp'\n",
    "    img = Image.open(f'/data1/sdi/datasets/CPN_all/Images/{fname}').convert('L')\n",
    "    mask = Image.open(f'/data1/sdi/datasets/CPN_all/Masks/{mname}').convert('L')\n",
    "    print(f'size: {img.size}')\n",
    "    cimg = img.crop( (int(img.size[0]/2) - 320, 0, int(img.size[0]/2) + 320, img.size[1]) )\n",
    "    plt.imshow(cimg, cmap='gray')\n",
    "    plt.show()\n",
    "    cmask = mask.crop( (int(img.size[0]/2) - 320, 0, int(img.size[0]/2) + 320, img.size[1]) )\n",
    "    plt.imshow(cmask, cmap='gray')\n",
    "    plt.show()\n",
    "    print(f'size: {cmask.size}')\n",
    "    cimg.save(f'/data1/sdi/datasets/CPN_pad/Images/{fname}')\n",
    "    cmask.save(f'/data1/sdi/datasets/CPN_pad/Masks/{mname}')"
   ]
  },
  {
   "cell_type": "code",
   "execution_count": null,
   "metadata": {},
   "outputs": [],
   "source": [
    "import numpy as np\n",
    "pth = '/data1/sdi/datasets/CPN_pad/Images'\n",
    "for fname in os.listdir(pth):\n",
    "    mname = fname.split('.')[0] + '_mask.bmp'\n",
    "    img = Image.open(f'/data1/sdi/datasets/CPN_pad/Images/{fname}').convert('L')\n",
    "    mask = Image.open(f'/data1/sdi/datasets/CPN_pad/Masks/{mname}').convert('L')\n",
    "    plt.imshow(np.array(mask)/2 + np.array(img)/2, cmap='gray')\n",
    "    plt.show()\n",
    "\n",
    "    cimg = np.array(ImageOps.pad(img, (640, 640), color=255, centering=(0, 0)))\n",
    "    cmask = np.array(ImageOps.pad(mask, (640, 640), color=255, centering=(0, 0)))\n",
    "    plt.imshow(cimg/2 + cmask/2, cmap='gray')\n",
    "    plt.show()\n",
    "    "
   ]
  }
 ],
 "metadata": {
  "kernelspec": {
   "display_name": "Python 3.8.13 ('sdi_CPNKDv5')",
   "language": "python",
   "name": "python3"
  },
  "language_info": {
   "codemirror_mode": {
    "name": "ipython",
    "version": 3
   },
   "file_extension": ".py",
   "mimetype": "text/x-python",
   "name": "python",
   "nbconvert_exporter": "python",
   "pygments_lexer": "ipython3",
   "version": "3.8.13"
  },
  "orig_nbformat": 4,
  "vscode": {
   "interpreter": {
    "hash": "f49abb083c1b91ac362dbdd0984c7c201137e65743b64ea184949d3f7864438a"
   }
  }
 },
 "nbformat": 4,
 "nbformat_minor": 2
}
