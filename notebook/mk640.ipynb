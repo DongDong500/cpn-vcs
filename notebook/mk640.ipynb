{
 "cells": [
  {
   "cell_type": "markdown",
   "metadata": {},
   "source": [
    "Make dataset from origin\n",
    "\n",
    "(#, #) -> (640, 640)\n",
    "\n",
    "\n",
    "bottom, edge zero padding, Green dots on every corner, filps"
   ]
  },
  {
   "cell_type": "code",
   "execution_count": 1,
   "metadata": {},
   "outputs": [],
   "source": [
    "import os\n",
    "import numpy as np\n",
    "from PIL import Image\n",
    "from PIL import ImageOps\n",
    "from matplotlib import pyplot as plt"
   ]
  },
  {
   "cell_type": "code",
   "execution_count": 7,
   "metadata": {},
   "outputs": [
    {
     "name": "stdout",
     "output_type": "stream",
     "text": [
      "Current working directory : /home/dongik/src/cpn-vcs/notebook\n"
     ]
    }
   ],
   "source": [
    "print('Current working directory :', os.getcwd())\n",
    "\n",
    "pth = '/home/dongik/datasets/original_copy_cpn/Images'\n",
    "mpth = '/home/dongik/datasets/original_copy_cpn/Masks'\n",
    "\n",
    "dst = '/home/dongik/datasets/peroneal//Images'\n",
    "mdst = '/home/dongik/datasets/peroneal/Masks'\n",
    "\n",
    "if not os.path.exists(dst) or not os.path.exists(mdst):\n",
    "    os.makedirs(dst)\n",
    "    os.makedirs(mdst)"
   ]
  },
  {
   "cell_type": "code",
   "execution_count": 9,
   "metadata": {},
   "outputs": [
    {
     "name": "stdout",
     "output_type": "stream",
     "text": [
      "total files :  490\n"
     ]
    }
   ],
   "source": [
    "''' Check peroneal data validity\n",
    "'''\n",
    "cnt = 0\n",
    "for fname in os.listdir(pth):\n",
    "    mname = fname.split('.')[0] + '_mask.' + fname.split('.')[-1]\n",
    "    if not os.path.exists( os.path.join(pth, fname) ) or not os.path.exists( os.path.join(mpth, mname) ):\n",
    "        raise Exception (' file corrupted.', cnt, pth, fname, mpth, mname)\n",
    "    else:\n",
    "        cnt += 1\n",
    "print('total files : ', cnt)"
   ]
  },
  {
   "cell_type": "code",
   "execution_count": 31,
   "metadata": {},
   "outputs": [
    {
     "ename": "Exception",
     "evalue": "(34, 'FN_I0030245.bmp', (869, 640), (869, 640))",
     "output_type": "error",
     "traceback": [
      "\u001b[0;31m---------------------------------------------------------------------------\u001b[0m",
      "\u001b[0;31mException\u001b[0m                                 Traceback (most recent call last)",
      "\u001b[1;32m/home/dongik/src/cpn-vcs/notebook/mk640.ipynb 셀 5\u001b[0m in \u001b[0;36m<cell line: 2>\u001b[0;34m()\u001b[0m\n\u001b[1;32m     <a href='vscode-notebook-cell://ssh-remote%2Bserver3-dongik/home/dongik/src/cpn-vcs/notebook/mk640.ipynb#W1sdnNjb2RlLXJlbW90ZQ%3D%3D?line=50'>51</a>\u001b[0m \u001b[39m#assert ( img.size == mask.size == (640, 640))\u001b[39;00m\n\u001b[1;32m     <a href='vscode-notebook-cell://ssh-remote%2Bserver3-dongik/home/dongik/src/cpn-vcs/notebook/mk640.ipynb#W1sdnNjb2RlLXJlbW90ZQ%3D%3D?line=52'>53</a>\u001b[0m \u001b[39mif\u001b[39;00m img\u001b[39m.\u001b[39msize \u001b[39m!=\u001b[39m (\u001b[39m640\u001b[39m, \u001b[39m640\u001b[39m) \u001b[39mor\u001b[39;00m mask\u001b[39m.\u001b[39msize \u001b[39m!=\u001b[39m (\u001b[39m640\u001b[39m, \u001b[39m640\u001b[39m):\n\u001b[0;32m---> <a href='vscode-notebook-cell://ssh-remote%2Bserver3-dongik/home/dongik/src/cpn-vcs/notebook/mk640.ipynb#W1sdnNjb2RlLXJlbW90ZQ%3D%3D?line=53'>54</a>\u001b[0m     \u001b[39mraise\u001b[39;00m \u001b[39mException\u001b[39;00m(cnt, fname, img\u001b[39m.\u001b[39msize, mask\u001b[39m.\u001b[39msize)\n\u001b[1;32m     <a href='vscode-notebook-cell://ssh-remote%2Bserver3-dongik/home/dongik/src/cpn-vcs/notebook/mk640.ipynb#W1sdnNjb2RlLXJlbW90ZQ%3D%3D?line=55'>56</a>\u001b[0m img\u001b[39m.\u001b[39msave(os\u001b[39m.\u001b[39mpath\u001b[39m.\u001b[39mjoin(dst, fname))\n\u001b[1;32m     <a href='vscode-notebook-cell://ssh-remote%2Bserver3-dongik/home/dongik/src/cpn-vcs/notebook/mk640.ipynb#W1sdnNjb2RlLXJlbW90ZQ%3D%3D?line=56'>57</a>\u001b[0m mask\u001b[39m.\u001b[39msave(os\u001b[39m.\u001b[39mpath\u001b[39m.\u001b[39mjoin(mdst, fname))\n",
      "\u001b[0;31mException\u001b[0m: (34, 'FN_I0030245.bmp', (869, 640), (869, 640))"
     ]
    }
   ],
   "source": [
    "cnt = 0\n",
    "for fname in os.listdir(pth):\n",
    "    mname = fname.split('.')[0] + '_mask.bmp'\n",
    "    img = Image.open(os.path.join(pth, fname)).convert('RGB')\n",
    "    mask = Image.open(os.path.join(mpth, mname)).convert('L')\n",
    "\n",
    "    if img.size[0] > 640:\n",
    "        # center crop WxH\n",
    "        img = img.crop( (int(img.size[0]/2) - 320, 0, int(img.size[0]/2) + 320, img.size[1]) )\n",
    "        mask = mask.crop( (int(img.size[0]/2) - 320, 0, int(img.size[0]/2) + 320, img.size[1]) )\n",
    "        \n",
    "    if img.size[1] > 640:\n",
    "        img = img.crop( (0, int(img.size[1]/2) - 320, img.size[0], int(img.size[1]/2) + 320) )\n",
    "        mask = mask.crop( (0, int(img.size[1]/2) - 320, img.size[0], int(img.size[1]/2) + 320) )\n",
    "\n",
    "    if img.size[0] > 640 or img.size[1] > 640:\n",
    "        raise Exception(fname, img.size)\n",
    "\n",
    "    # green dots\n",
    "    img = np.array(img, dtype=np.uint8)\n",
    "    img[0:10, 0:10] = [0, 255, 0]\n",
    "    img[0:10, -10:] = [0, 255, 0]\n",
    "    img[-10:, 0:10] = [0, 255, 0]\n",
    "    img[-10:, -10:] = [0, 255, 0]\n",
    "    img = Image.fromarray(img)\n",
    "    \n",
    "    h, w = np.where(np.array(mask, dtype=np.uint8) > 0)\n",
    "    tl = (w.min(), h.min())\n",
    "    br = (w.max(), h.max())\n",
    "\n",
    "    #img = ImageOps.pad(img, (640, 640), color=255, centering=(320, 320))\n",
    "    #mask = ImageOps.pad(mask, (640, 640), color=255, centering=(320, 320))\n",
    "    width = 640-img.size[0]\n",
    "    height = 640-img.size[1]\n",
    "\n",
    "    if width % 2 == 0 and width > 0:\n",
    "        left, right = width/2, width/2\n",
    "    elif width % 2 == 1:\n",
    "        left, right = (width + 1)/2, (width - 1)/2\n",
    "\n",
    "    if height % 2 == 0 and height > 0:\n",
    "        top, bottom = height/2, height/2\n",
    "    elif height % 2 ==1:\n",
    "        top, bottom = (height + 1)/2, (height - 1)/2\n",
    "\n",
    "    border = (int(left), int(top), int(right), int(bottom))\n",
    "\n",
    "    img = ImageOps.expand(img, border, fill=0)\n",
    "    mask = ImageOps.expand(mask, border, fill=0)\n",
    "\n",
    "    #assert ( img.size == mask.size == (640, 640))\n",
    "    \n",
    "    if img.size != (640, 640) or mask.size != (640, 640):\n",
    "        raise Exception(cnt, fname, img.size, mask.size)\n",
    "\n",
    "    img.save(os.path.join(dst, fname))\n",
    "    mask.save(os.path.join(mdst, fname))\n",
    "\n",
    "    mask = mask.convert('RGB')\n",
    "    overlay = np.array(img, dtype=np.float32)/2 + np.array(mask, dtype=np.float32)/2\n",
    "    overlay = Image.fromarray(overlay.astype(np.uint8))\n",
    "\n",
    "    \n",
    "\n",
    "    \n",
    "    #overlay.save(os.path.join('/home/dongik/datasets/peroneal/', fname))\n",
    "    cnt += 1\n",
    "    \n",
    "\n",
    "print(f'cnt: {cnt}')\n",
    "    "
   ]
  },
  {
   "cell_type": "code",
   "execution_count": 28,
   "metadata": {},
   "outputs": [],
   "source": [
    "pth = '/data1/sdi/datasets/Median/Images'\n",
    "mpth = '/data1/sdi/datasets/Median/Masks'\n",
    "\n",
    "dst = '/data1/sdi/datasets/Median_padw/Images'\n",
    "mdst = '/data1/sdi/datasets/Median_padw/Masks'\n",
    "\n",
    "for fname in os.listdir(pth):\n",
    "    img = Image.open(os.path.join(pth, fname)).convert('L')\n",
    "    mask = Image.open(os.path.join(mpth, fname)).convert('L')\n",
    "\n",
    "    if img.size[0] > 640 or img.size[1] > 640:\n",
    "        img = ImageOps.expand(img, (0, 0, 896-img.size[0], 640-img.size[1]), fill=255)\n",
    "        mask = ImageOps.expand(mask, (0, 0, 896-mask.size[0], 640-mask.size[1]), fill=0)\n",
    "        \n",
    "    else:\n",
    "        img = ImageOps.expand(img, (0, 0, 640-img.size[0], 640-img.size[1]), fill=255)\n",
    "        mask = ImageOps.expand(mask, (0, 0, 640-mask.size[0], 640-mask.size[1]), fill=0)\n",
    "\n",
    "    img.save(os.path.join(dst, fname))\n",
    "    mask.save(os.path.join(mdst, fname))\n",
    "\n",
    "    #plt.imshow(img, cmap='gray')\n",
    "    # if img.size not in cnt.keys():\n",
    "    #     cnt[img.size] = 0\n",
    "    # else:\n",
    "    #     cnt[img.size] += 1"
   ]
  },
  {
   "cell_type": "code",
   "execution_count": 2,
   "metadata": {},
   "outputs": [
    {
     "data": {
      "text/plain": [
       "{(864, 576): 502, (565, 442): 803}"
      ]
     },
     "execution_count": 2,
     "metadata": {},
     "output_type": "execute_result"
    }
   ],
   "source": [
    "import os\n",
    "from PIL import Image\n",
    "\n",
    "pth = '/data1/sdi/datasets/_Median/Images'\n",
    "\n",
    "cnt = {}\n",
    "for fname in os.listdir(pth):\n",
    "    img = Image.open(os.path.join(pth, fname))\n",
    "    if img.size not in cnt.keys():\n",
    "        cnt[img.size] = 1\n",
    "    else:\n",
    "        cnt[img.size] += 1\n",
    "cnt"
   ]
  },
  {
   "cell_type": "code",
   "execution_count": null,
   "metadata": {},
   "outputs": [],
   "source": [
    "pth = '/data1/sdi/datasets/CPN_all/Images'\n",
    "\n",
    "cntw = 0\n",
    "cnth = 0\n",
    "fnamelist = []\n",
    "for fname in os.listdir(pth):\n",
    "    img = Image.open(os.path.join(pth, fname))\n",
    "    #print(img.size[0], img.size[1])\n",
    "    if img.size[0] > 640:\n",
    "        cntw += 1\n",
    "        print(fname, img.size)\n",
    "        fnamelist.append(fname)\n",
    "    if img.size[1] > 640:\n",
    "        cnth += 1\n",
    "        print(fname, img.size)\n",
    "    # img = ImageOps.pad(img, (512, 512), centering=(0, 0))\n",
    "    # plt.imshow(img, cmap='gray')\n",
    "print(cntw, cnth)"
   ]
  },
  {
   "cell_type": "code",
   "execution_count": null,
   "metadata": {},
   "outputs": [],
   "source": [
    "for fname in fnamelist:\n",
    "    mname = fname.split('.')[0] + '_mask.bmp'\n",
    "    img = Image.open(f'/data1/sdi/datasets/CPN_all/Images/{fname}').convert('L')\n",
    "    mask = Image.open(f'/data1/sdi/datasets/CPN_all/Masks/{mname}').convert('L')\n",
    "    print(f'size: {img.size}')\n",
    "    cimg = img.crop( (int(img.size[0]/2) - 320, 0, int(img.size[0]/2) + 320, img.size[1]) )\n",
    "    plt.imshow(cimg, cmap='gray')\n",
    "    plt.show()\n",
    "    cmask = mask.crop( (int(img.size[0]/2) - 320, 0, int(img.size[0]/2) + 320, img.size[1]) )\n",
    "    plt.imshow(cmask, cmap='gray')\n",
    "    plt.show()\n",
    "    print(f'size: {cmask.size}')\n",
    "    cimg.save(f'/data1/sdi/datasets/CPN_pad/Images/{fname}')\n",
    "    cmask.save(f'/data1/sdi/datasets/CPN_pad/Masks/{mname}')"
   ]
  },
  {
   "cell_type": "code",
   "execution_count": null,
   "metadata": {},
   "outputs": [],
   "source": [
    "import numpy as np\n",
    "pth = '/data1/sdi/datasets/CPN_pad/Images'\n",
    "for fname in os.listdir(pth):\n",
    "    mname = fname.split('.')[0] + '_mask.bmp'\n",
    "    img = Image.open(f'/data1/sdi/datasets/CPN_pad/Images/{fname}').convert('L')\n",
    "    mask = Image.open(f'/data1/sdi/datasets/CPN_pad/Masks/{mname}').convert('L')\n",
    "    plt.imshow(np.array(mask)/2 + np.array(img)/2, cmap='gray')\n",
    "    plt.show()\n",
    "\n",
    "    cimg = np.array(ImageOps.pad(img, (640, 640), color=255, centering=(0, 0)))\n",
    "    cmask = np.array(ImageOps.pad(mask, (640, 640), color=255, centering=(0, 0)))\n",
    "    plt.imshow(cimg/2 + cmask/2, cmap='gray')\n",
    "    plt.show()\n",
    "    "
   ]
  }
 ],
 "metadata": {
  "kernelspec": {
   "display_name": "Python 3.8.13 ('CPNKDv5': conda)",
   "language": "python",
   "name": "python3"
  },
  "language_info": {
   "codemirror_mode": {
    "name": "ipython",
    "version": 3
   },
   "file_extension": ".py",
   "mimetype": "text/x-python",
   "name": "python",
   "nbconvert_exporter": "python",
   "pygments_lexer": "ipython3",
   "version": "3.8.13"
  },
  "orig_nbformat": 4,
  "vscode": {
   "interpreter": {
    "hash": "c0812c76dadd0be11b5c2abec8e23f22451ffb3fa8606d420ca07b107c675cf0"
   }
  }
 },
 "nbformat": 4,
 "nbformat_minor": 2
}
