{
 "cells": [
  {
   "cell_type": "code",
   "execution_count": 1,
   "metadata": {},
   "outputs": [
    {
     "name": "stderr",
     "output_type": "stream",
     "text": [
      "/home/sdi/anaconda3/envs/sdi_CPNKDv5/lib/python3.8/site-packages/tqdm/auto.py:22: TqdmWarning: IProgress not found. Please update jupyter and ipywidgets. See https://ipywidgets.readthedocs.io/en/stable/user_install.html\n",
      "  from .autonotebook import tqdm as notebook_tqdm\n"
     ]
    }
   ],
   "source": [
    "import os\n",
    "import socket\n",
    "import utils\n",
    "import numpy as np\n",
    "from PIL import Image\n",
    "from matplotlib import pyplot as plt\n",
    "\n",
    "DATA_DIR = {\n",
    "    3 : \"/mnt/server5/sdi/datasets\",\n",
    "    4 : \"/mnt/server5/sdi/datasets\",\n",
    "    5 : \"/data1/sdi/datasets\"\n",
    "}\n",
    "\n",
    "def get_datadir():\n",
    "    if socket.gethostname() == \"server3\":\n",
    "        return DATA_DIR[3]\n",
    "    elif socket.gethostname() == \"server4\":\n",
    "        return DATA_DIR[4]\n",
    "    elif socket.gethostname() == \"server5\":\n",
    "        return DATA_DIR[5]\n",
    "    else:\n",
    "        raise NotImplementedError\n",
    "\n",
    "datadir = os.path.join(get_datadir(), 'CPN/Images')\n",
    "maskdir = os.path.join(get_datadir(), 'CPN/Masks')"
   ]
  },
  {
   "cell_type": "code",
   "execution_count": 31,
   "metadata": {},
   "outputs": [
    {
     "name": "stdout",
     "output_type": "stream",
     "text": [
      "FH_I0031204.jpg \t\twidth 367 cls: 269\n"
     ]
    },
    {
     "data": {
      "image/png": "[encoded data removed]",
      "text/plain": [
       "<Figure size 432x288 with 1 Axes>"
      ]
     },
     "metadata": {
      "needs_background": "light"
     },
     "output_type": "display_data"
    }
   ],
   "source": [
    "clslst = [0 for i in range(1024)]\n",
    "for fname in os.listdir(maskdir):\n",
    "    ma = os.path.join(maskdir, fname)\n",
    "\n",
    "    if not os.path.exists(ma):\n",
    "        raise Exception ( \"File not exists\", ma )\n",
    "    \n",
    "    mask = np.array( Image.open(ma).convert(\"L\"), dtype=np.uint8 )\n",
    "\n",
    "    h, w = np.where(mask > 0)\n",
    "    tl = (h.min(), w.min())\n",
    "    rb = (h.max(), w.max())\n",
    "    pnt = ( int((tl[0] + rb[0])/2), int((tl[1] + rb[1])/2) )\n",
    "    \n",
    "    clsn = 32 * ((pnt[0] // 16) + 1) + ((pnt[1] // 16) + 1)\n",
    "    clslst[clsn - 1] += 1\n",
    "    mask[500:512,500:512] = 255\n",
    "    mask[pnt[0]-3: pnt[0]+3, pnt[1]-3: pnt[1]+3] = 0\n",
    "\n",
    "    if rb[0] - tl[0] > 256:\n",
    "        print(fname, \"\\t\\theight:\", rb[0] - tl[0], \"cls:\", clsn)\n",
    "\n",
    "    if rb[1] - tl[1] > 256:\n",
    "        print(fname, \"\\t\\twidth\", rb[1] - tl[1], \"cls:\", clsn)\n",
    "        plt.imshow(mask, cmap='gray')\n",
    "        break\n",
    "    "
   ]
  },
  {
   "cell_type": "code",
   "execution_count": 26,
   "metadata": {},
   "outputs": [
    {
     "data": {
      "text/plain": [
       "[<matplotlib.lines.Line2D at 0x7ff9a20b5580>]"
      ]
     },
     "execution_count": 26,
     "metadata": {},
     "output_type": "execute_result"
    },
    {
     "data": {
      "image/png": "[encoded data removed]",
      "text/plain": [
       "<Figure size 432x288 with 1 Axes>"
      ]
     },
     "metadata": {
      "needs_background": "light"
     },
     "output_type": "display_data"
    }
   ],
   "source": [
    "plt.plot(clslst)"
   ]
  },
  {
   "cell_type": "code",
   "execution_count": 24,
   "metadata": {},
   "outputs": [
    {
     "data": {
      "text/plain": [
       "490"
      ]
     },
     "execution_count": 24,
     "metadata": {},
     "output_type": "execute_result"
    }
   ],
   "source": [
    "sum(clslst)"
   ]
  }
 ],
 "metadata": {
  "kernelspec": {
   "display_name": "Python 3.8.13 ('sdi_CPNKDv5')",
   "language": "python",
   "name": "python3"
  },
  "language_info": {
   "codemirror_mode": {
    "name": "ipython",
    "version": 3
   },
   "file_extension": ".py",
   "mimetype": "text/x-python",
   "name": "python",
   "nbconvert_exporter": "python",
   "pygments_lexer": "ipython3",
   "version": "3.8.13"
  },
  "orig_nbformat": 4,
  "vscode": {
   "interpreter": {
    "hash": "f49abb083c1b91ac362dbdd0984c7c201137e65743b64ea184949d3f7864438a"
   }
  }
 },
 "nbformat": 4,
 "nbformat_minor": 2
}
