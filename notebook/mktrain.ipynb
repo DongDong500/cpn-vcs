{
 "cells": [
  {
   "cell_type": "code",
   "execution_count": 16,
   "metadata": {},
   "outputs": [
    {
     "name": "stdout",
     "output_type": "stream",
     "text": [
      "/home/dongik/src/cpn-vcs\n",
      "/home/dongik/src\n"
     ]
    }
   ],
   "source": [
    "import os\n",
    "import sys\n",
    "curdir = os.path.dirname( os.path.abspath('') )\n",
    "pdir = os.path.dirname( curdir )\n",
    "sys.path.insert(0, pdir)"
   ]
  },
  {
   "cell_type": "code",
   "execution_count": 22,
   "metadata": {},
   "outputs": [
    {
     "name": "stderr",
     "output_type": "stream",
     "text": [
      "usage: ipykernel_launcher.py [-h] [--short_memo SHORT_MEMO]\n",
      "                             [--cur_work_server CUR_WORK_SERVER]\n",
      "                             [--default_prefix DEFAULT_PREFIX]\n",
      "                             [--current_time CURRENT_TIME]\n",
      "                             [--data_root DATA_ROOT] [--login_dir LOGIN_DIR]\n",
      "                             [--gpus GPUS] [--Tlog_dir TLOG_DIR]\n",
      "                             [--save_model] [--best_ckpt BEST_CKPT] [--resume]\n",
      "                             [--resume_ckpt RESUME_CKPT] [--continue_training]\n",
      "                             [--model {deeplabv3plus_resnet101,deeplabv3plus_resnet50,vit}]\n",
      "                             [--model_params MODEL_PARAMS] [--model_pretrain]\n",
      "                             [--vit_model {deeplabv3plus_resnet101,deeplabv3plus_resnet50,vit}]\n",
      "                             [--vit_model_params VIT_MODEL_PARAMS]\n",
      "                             [--vit_model_pretrain]\n",
      "                             [--encoder_name ENCODER_NAME]\n",
      "                             [--encoder_depth ENCODER_DEPTH]\n",
      "                             [--encoder_weights ENCODER_WEIGHTS]\n",
      "                             [--encoder_output_stride ENCODER_OUTPUT_STRIDE]\n",
      "                             [--decoder_atrous_rates DECODER_ATROUS_RATES]\n",
      "                             [--decoder_channels DECODER_CHANNELS]\n",
      "                             [--in_channels IN_CHANNELS] [--classes CLASSES]\n",
      "                             [--activation ACTIVATION]\n",
      "                             [--upsampling UPSAMPLING]\n",
      "                             [--aux_params AUX_PARAMS]\n",
      "                             [--vit_image_size VIT_IMAGE_SIZE]\n",
      "                             [--vit_patch_size VIT_PATCH_SIZE]\n",
      "                             [--vit_num_classes VIT_NUM_CLASSES]\n",
      "                             [--vit_dim VIT_DIM] [--vit_depth VIT_DEPTH]\n",
      "                             [--vit_heads VIT_HEADS]\n",
      "                             [--vit_mlp_dim VIT_MLP_DIM]\n",
      "                             [--vit_dropout VIT_DROPOUT]\n",
      "                             [--vit_emb_dropout VIT_EMB_DROPOUT]\n",
      "                             [--dataset {Peroneal,PeronealViT,cpn,cpn_vit,mktv,sample}]\n",
      "                             [--dataset_ver DATASET_VER]\n",
      "                             [--num_workers NUM_WORKERS] [--tvs TVS]\n",
      "                             [--is_resize] [--is_resize_val]\n",
      "                             [--is_resize_test] [--resize RESIZE]\n",
      "                             [--resize_val RESIZE_VAL]\n",
      "                             [--resize_test RESIZE_TEST] [--is_scale]\n",
      "                             [--is_scale_val] [--is_scale_test]\n",
      "                             [--scale_factor SCALE_FACTOR]\n",
      "                             [--scale_factor_val SCALE_FACTOR_VAL]\n",
      "                             [--scale_factor_test SCALE_FACTOR_TEST]\n",
      "                             [--is_crop] [--is_crop_val] [--is_crop_test]\n",
      "                             [--crop_size CROP_SIZE]\n",
      "                             [--crop_size_val CROP_SIZE_VAL]\n",
      "                             [--crop_size_test CROP_SIZE_TEST] [--std STD]\n",
      "                             [--mu MU] [--std_val STD_VAL] [--mu_val MU_VAL]\n",
      "                             [--std_test STD_TEST] [--mu_test MU_TEST]\n",
      "                             [--random_seed RANDOM_SEED]\n",
      "                             [--total_itrs TOTAL_ITRS] [--lr_policy LR_POLICY]\n",
      "                             [--lr LR] [--step_size STEP_SIZE]\n",
      "                             [--weight_decay WEIGHT_DECAY]\n",
      "                             [--momentum MOMENTUM] [--optim OPTIM]\n",
      "                             [--loss_type LOSS_TYPE]\n",
      "                             [--vit_loss_type VIT_LOSS_TYPE]\n",
      "                             [--batch_size BATCH_SIZE]\n",
      "                             [--vit_batch_size VIT_BATCH_SIZE]\n",
      "                             [--exp_itr EXP_ITR] [--val_interval VAL_INTERVAL]\n",
      "                             [--val_batch_size VAL_BATCH_SIZE]\n",
      "                             [--val_vit_batch_size VAL_VIT_BATCH_SIZE]\n",
      "                             [--patience PATIENCE] [--delta DELTA]\n",
      "                             [--test_interval TEST_INTERVAL]\n",
      "                             [--test_batch_size TEST_BATCH_SIZE]\n",
      "                             [--test_vit_batch_size TEST_VIT_BATCH_SIZE]\n",
      "                             [--save_test_results]\n",
      "                             [--test_results_dir TEST_RESULTS_DIR]\n",
      "                             [--run_demo]\n",
      "ipykernel_launcher.py: error: unrecognized arguments: --ip=127.0.0.1 --stdin=9003 --control=9001 --hb=9000 --Session.signature_scheme=\"hmac-sha256\" --Session.key=b\"acd477b0-2154-4111-9b29-4c2cef130213\" --shell=9002 --transport=\"tcp\" --iopub=9004 --f=/home/dongik/.local/share/jupyter/runtime/kernel-v2-25692QwBentIGInOE.json\n"
     ]
    },
    {
     "ename": "SystemExit",
     "evalue": "2",
     "output_type": "error",
     "traceback": [
      "An exception has occurred, use %tb to see the full traceback.\n",
      "\u001b[0;31mSystemExit\u001b[0m\u001b[0;31m:\u001b[0m 2\n"
     ]
    },
    {
     "name": "stderr",
     "output_type": "stream",
     "text": [
      "/home/dongik/.conda/envs/CPNKDv5/lib/python3.8/site-packages/IPython/core/interactiveshell.py:3405: UserWarning: To exit: use 'exit', 'quit', or Ctrl-D.\n",
      "  warn(\"To exit: use 'exit', 'quit', or Ctrl-D.\", stacklevel=1)\n"
     ]
    }
   ],
   "source": [
    "from train_vcs import get_dataset\n",
    "from args_vcs import get_argparser\n",
    "\n",
    "opts = get_argparser()\n",
    "\n",
    "print(opts)\n"
   ]
  }
 ],
 "metadata": {
  "kernelspec": {
   "display_name": "Python 3.8.13 ('CPNKDv5': conda)",
   "language": "python",
   "name": "python3"
  },
  "language_info": {
   "codemirror_mode": {
    "name": "ipython",
    "version": 3
   },
   "file_extension": ".py",
   "mimetype": "text/x-python",
   "name": "python",
   "nbconvert_exporter": "python",
   "pygments_lexer": "ipython3",
   "version": "3.8.13"
  },
  "orig_nbformat": 4,
  "vscode": {
   "interpreter": {
    "hash": "c0812c76dadd0be11b5c2abec8e23f22451ffb3fa8606d420ca07b107c675cf0"
   }
  }
 },
 "nbformat": 4,
 "nbformat_minor": 2
}
