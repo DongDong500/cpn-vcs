{
 "cells": [
  {
   "cell_type": "code",
   "execution_count": 59,
   "metadata": {},
   "outputs": [],
   "source": [
    "from utils import ext_transforms as et\n",
    "from PIL import Image\n",
    "from PIL import ImageFilter\n",
    "from matplotlib import pyplot as plt\n",
    "import numpy as np\n",
    "import torch\n",
    "import cv2 as cv"
   ]
  },
  {
   "cell_type": "code",
   "execution_count": 62,
   "metadata": {},
   "outputs": [
    {
     "data": {
      "image/png": "[encoded data removed]",
      "text/plain": [
       "<Figure size 432x288 with 1 Axes>"
      ]
     },
     "metadata": {
      "needs_background": "light"
     },
     "output_type": "display_data"
    }
   ],
   "source": [
    "sample_mask = Image.open('/data1/sdi/datasets/CPN/Masks/FH_I0000916_2.jpg').convert('L')\n",
    "sample_image = Image.open('/data1/sdi/datasets/CPN/Images/FH_I0000916_2.jpg').convert('RGB')\n",
    "\n",
    "img, lbl = et.ExtScale(scale=0.5, is_scale=True)(sample_image, sample_mask)\n",
    "#img, lbl = et.ExtToTensor()(img, lbl)\n",
    "\n",
    "lbl = np.array( lbl, dtype='uint8' )\n",
    "plt.imshow(lbl, cmap='gray')\n",
    "plt.show()\n",
    "\n",
    "lbl[np.where( lbl > 0 )] = 1\n",
    "lbl[np.where( lbl != 1 )] = 0\n",
    "\n",
    "# print(lbl[30: 55, 70:71])"
   ]
  },
  {
   "cell_type": "code",
   "execution_count": 63,
   "metadata": {},
   "outputs": [
    {
     "ename": "error",
     "evalue": "OpenCV(4.6.0) :-1: error: (-5:Bad argument) in function 'erode'\n> Overload resolution failed:\n>  - src is not a numpy array, neither a scalar\n>  - Expected Ptr<cv::UMat> for argument 'src'\n",
     "output_type": "error",
     "traceback": [
      "\u001b[0;31m---------------------------------------------------------------------------\u001b[0m",
      "\u001b[0;31merror\u001b[0m                                     Traceback (most recent call last)",
      "\u001b[1;32m/data1/sdi/CPNKDv5/pallete.ipynb 셀 3\u001b[0m in \u001b[0;36m<cell line: 8>\u001b[0;34m()\u001b[0m\n\u001b[1;32m      <a href='vscode-notebook-cell://ssh-remote%2B7b22686f73744e616d65223a22536572766572352d736469227d/data1/sdi/CPNKDv5/pallete.ipynb#ch0000002vscode-remote?line=4'>5</a>\u001b[0m lbl \u001b[39m=\u001b[39m lbl\u001b[39m.\u001b[39mastype(\u001b[39m'\u001b[39m\u001b[39muint8\u001b[39m\u001b[39m'\u001b[39m)\n\u001b[1;32m      <a href='vscode-notebook-cell://ssh-remote%2B7b22686f73744e616d65223a22536572766572352d736469227d/data1/sdi/CPNKDv5/pallete.ipynb#ch0000002vscode-remote?line=5'>6</a>\u001b[0m lbl \u001b[39m=\u001b[39m torch\u001b[39m.\u001b[39mfrom_numpy( lbl )\n\u001b[0;32m----> <a href='vscode-notebook-cell://ssh-remote%2B7b22686f73744e616d65223a22536572766572352d736469227d/data1/sdi/CPNKDv5/pallete.ipynb#ch0000002vscode-remote?line=7'>8</a>\u001b[0m lbl \u001b[39m=\u001b[39m cv\u001b[39m.\u001b[39;49merode(lbl, kernel, iterations\u001b[39m=\u001b[39;49m\u001b[39m1\u001b[39;49m)\n\u001b[1;32m     <a href='vscode-notebook-cell://ssh-remote%2B7b22686f73744e616d65223a22536572766572352d736469227d/data1/sdi/CPNKDv5/pallete.ipynb#ch0000002vscode-remote?line=9'>10</a>\u001b[0m lbl \u001b[39m=\u001b[39m (lbl\u001b[39m.\u001b[39mnumpy())\u001b[39m.\u001b[39mastype(np\u001b[39m.\u001b[39muint8)\n\u001b[1;32m     <a href='vscode-notebook-cell://ssh-remote%2B7b22686f73744e616d65223a22536572766572352d736469227d/data1/sdi/CPNKDv5/pallete.ipynb#ch0000002vscode-remote?line=10'>11</a>\u001b[0m lbl \u001b[39m=\u001b[39m lbl\u001b[39m*\u001b[39m\u001b[39m255\u001b[39m\n",
      "\u001b[0;31merror\u001b[0m: OpenCV(4.6.0) :-1: error: (-5:Bad argument) in function 'erode'\n> Overload resolution failed:\n>  - src is not a numpy array, neither a scalar\n>  - Expected Ptr<cv::UMat> for argument 'src'\n"
     ]
    }
   ],
   "source": [
    "#lbl[np.where(lbl > 0)] = 1\n",
    "\n",
    "kernel = np.ones((5, 5), np.uint8)\n",
    "\n",
    "lbl = lbl.astype('uint8')\n",
    "lbl = torch.from_numpy( lbl )\n",
    "lbl = cv.fromarray()\n",
    "lbl = cv.erode(lbl, kernel, iterations=1)\n",
    "\n",
    "lbl = (lbl.numpy()).astype(np.uint8)\n",
    "lbl = lbl*255\n",
    "# print(lbl[30: 55, 70:71])\n",
    "lbl = Image.fromarray(lbl)\n",
    "lbl = lbl.filter(ImageFilter.MaxFilter())\n",
    "plt.imshow(lbl, cmap='gray')"
   ]
  }
 ],
 "metadata": {
  "kernelspec": {
   "display_name": "Python 3.8.13 ('sdi_CPNKDv5')",
   "language": "python",
   "name": "python3"
  },
  "language_info": {
   "codemirror_mode": {
    "name": "ipython",
    "version": 3
   },
   "file_extension": ".py",
   "mimetype": "text/x-python",
   "name": "python",
   "nbconvert_exporter": "python",
   "pygments_lexer": "ipython3",
   "version": "3.8.13"
  },
  "orig_nbformat": 4,
  "vscode": {
   "interpreter": {
    "hash": "f49abb083c1b91ac362dbdd0984c7c201137e65743b64ea184949d3f7864438a"
   }
  }
 },
 "nbformat": 4,
 "nbformat_minor": 2
}
